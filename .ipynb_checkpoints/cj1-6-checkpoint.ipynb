{
 "cells": [
  {
   "cell_type": "code",
   "execution_count": 101,
   "id": "462696a2-6b19-4daf-839d-fd70edc44ab0",
   "metadata": {},
   "outputs": [],
   "source": [
    "# Brent Brison\n",
    "# Doctor Aguichine\n",
    "# ASTR 19\n",
    "# 18 January 2024\n",
    "\n",
    "# Coding Journal 1, Prompt # 6"
   ]
  },
  {
   "cell_type": "markdown",
   "id": "80cf7a70-80ba-42b0-858a-901282113619",
   "metadata": {},
   "source": [
    "Python code that will tabulate sin(x) and cos(x) using these previously defined functions vs. x, where x is tabulated between 0 and 2 with a thousand entries."
   ]
  },
  {
   "cell_type": "code",
   "execution_count": 102,
   "id": "20e8004c-e9bc-47eb-a720-03500fcddf2b",
   "metadata": {},
   "outputs": [],
   "source": [
    "import math as m\n",
    "import numpy as np\n",
    "from astropy.table import Table"
   ]
  },
  {
   "cell_type": "markdown",
   "id": "33c0667d-361c-46f7-94ff-0387ee95cdde",
   "metadata": {},
   "source": [
    "The below function calculates the sin value of a given x in the range [-1,1]."
   ]
  },
  {
   "cell_type": "code",
   "execution_count": 103,
   "id": "556effdd-dea5-425e-9b5c-b48919b82193",
   "metadata": {},
   "outputs": [],
   "source": [
    "def sin(x):\n",
    "    return m.sin(x)"
   ]
  },
  {
   "cell_type": "markdown",
   "id": "2c198752-1560-4060-a9f9-71077c223dcb",
   "metadata": {},
   "source": [
    "The below function calculates the cosine of a given x in the range [-1,1]."
   ]
  },
  {
   "cell_type": "code",
   "execution_count": 104,
   "id": "9d3fa7e4-9c35-4dad-b4f7-cd3e756d9613",
   "metadata": {},
   "outputs": [],
   "source": [
    "def cos(x):\n",
    "    return m.cos(x)"
   ]
  },
  {
   "cell_type": "code",
   "execution_count": 105,
   "id": "1baf4729-9bfa-40f8-b48f-d2e0c3a08ee3",
   "metadata": {},
   "outputs": [],
   "source": [
    "listX = np.array([], dtype=np.int32)\n",
    "list_sinX = np.array([], dtype=np.float32)\n",
    "list_cosX = np.array([], dtype = np.float32)\n",
    "\n",
    "for i in range(1000):\n",
    "\tx = (2*m.pi) * (i/1000) # x = increasing by 1/1000 of 2pi, [0,2[i]\n",
    "\n",
    "\tlistX = np.append(listX, x)\n",
    "\tlist_sinX = np.append(list_sinX, sin(x))\n",
    "\tlist_cosX = np.append(list_cosX, cos(x))\n",
    "t = Table([listX, list_sinX, list_cosX], names = ['x','sin(x)','cos(x)'])"
   ]
  },
  {
   "cell_type": "code",
   "execution_count": 106,
   "id": "2b989ff2-fe99-43a7-b7d4-c7ec828188e0",
   "metadata": {},
   "outputs": [
    {
     "name": "stdout",
     "output_type": "stream",
     "text": [
      "0.000000\t0.000000\t1.000000\n",
      "0.006283\t0.006283\t0.999980\n",
      "0.012566\t0.012566\t0.999921\n",
      "0.018850\t0.018848\t0.999822\n",
      "0.025133\t0.025130\t0.999684\n",
      "0.031416\t0.031411\t0.999507\n",
      "0.037699\t0.037690\t0.999289\n",
      "0.043982\t0.043968\t0.999033\n",
      "0.050265\t0.050244\t0.998737\n",
      "0.056549\t0.056519\t0.998402\n"
     ]
    }
   ],
   "source": [
    "for i in range(10): \n",
    "    print(f\"{t['x'][i]:6f}\\t{t['sin(x)'][i]:6f}\\t{t['cos(x)'][i]:6f}\")"
   ]
  }
 ],
 "metadata": {
  "kernelspec": {
   "display_name": "Python 3 (ipykernel)",
   "language": "python",
   "name": "python3"
  },
  "language_info": {
   "codemirror_mode": {
    "name": "ipython",
    "version": 3
   },
   "file_extension": ".py",
   "mimetype": "text/x-python",
   "name": "python",
   "nbconvert_exporter": "python",
   "pygments_lexer": "ipython3",
   "version": "3.12.1"
  }
 },
 "nbformat": 4,
 "nbformat_minor": 5
}
